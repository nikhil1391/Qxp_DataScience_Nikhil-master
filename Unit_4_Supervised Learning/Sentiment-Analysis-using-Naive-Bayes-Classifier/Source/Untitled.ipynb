{
 "cells": [
  {
   "cell_type": "code",
   "execution_count": 1,
   "metadata": {},
   "outputs": [],
   "source": [
    "import re\n",
    "from sensitive_data import dataset,feature_set,no_of_items"
   ]
  },
  {
   "cell_type": "code",
   "execution_count": 4,
   "metadata": {},
   "outputs": [
    {
     "data": {
      "text/plain": [
       "{'1': 10, '-1': 11}"
      ]
     },
     "execution_count": 4,
     "metadata": {},
     "output_type": "execute_result"
    }
   ],
   "source": [
    "no_of_items"
   ]
  },
  {
   "cell_type": "code",
   "execution_count": 5,
   "metadata": {},
   "outputs": [],
   "source": [
    "# To calculate the basic probability of a word for a category\n",
    "def calc_prob(word,category):\n",
    "\n",
    "\tif word not in feature_set or word not in dataset[category]:\n",
    "\t\treturn 0\n",
    "\n",
    "\treturn float(dataset[category][word])/no_of_items[category]\n"
   ]
  },
  {
   "cell_type": "code",
   "execution_count": 6,
   "metadata": {},
   "outputs": [],
   "source": [
    "\n",
    "# Weighted probability of a word for a category\n",
    "def weighted_prob(word,category):\n",
    "\t# basic probability of a word - calculated by calc_prob\n",
    "\tbasic_prob=calc_prob(word,category)\n",
    "\n",
    "\t# total_no_of_appearances - in all the categories\n",
    "\tif word in feature_set:\n",
    "\t\ttot=sum(feature_set[word].values())\n",
    "\telse:\n",
    "\t\ttot=0\n",
    "\t\t\n",
    "\t# Weighted probability is given by the formula\n",
    "\t# (weight*assumedprobability + total_no_of_appearances*basic_probability)/(total_no_of_appearances+weight)\n",
    "\t# weight by default is taken as 1.0\n",
    "\t# assumed probability is 0.5 here\n",
    "\tweight_prob=((1.0*0.5)+(tot*basic_prob))/(1.0+tot)\n",
    "\treturn weight_prob"
   ]
  },
  {
   "cell_type": "code",
   "execution_count": 7,
   "metadata": {},
   "outputs": [],
   "source": [
    "# To get probability of the test data for the given category\n",
    "def test_prob(test,category):\n",
    "\t# Split the test data\n",
    "\tsplit_data=re.split('[^a-zA-Z][\\'][ ]',test)\n",
    "\t\n",
    "\tdata=[]\n",
    "\tfor i in split_data:\n",
    "\t\tif ' ' in i:\n",
    "\t\t\ti=i.split(' ')\n",
    "\t\t\tfor j in i:\n",
    "\t\t\t\tif j not in data:\n",
    "\t\t\t\t\tdata.append(j.lower())\n",
    "\t\telif len(i) > 2 and i not in data:\n",
    "\t\t\tdata.append(i.lower())\n",
    "\n",
    "\tp=1\n",
    "\tfor i in data:\n",
    "\t\tp*=weighted_prob(i,category)\n",
    "\treturn p"
   ]
  },
  {
   "cell_type": "code",
   "execution_count": 8,
   "metadata": {},
   "outputs": [],
   "source": [
    "# Naive Bayes implementation\n",
    "def naive_bayes(test):\n",
    "\t'''\n",
    "\t\tp(A|B) = p(B|A) * p(A) / p(B)\n",
    "\n",
    "\t\tAssume A - Category\n",
    "\t\t\t   B - Test data\n",
    "\t\t\t   p(A|B) - Category given the Test data\n",
    "\n",
    "\t\tHere ignoring p(B) in the denominator (Since it remains same for every category)\n",
    "\t'''\n",
    "\tresults={}\n",
    "\tfor i in dataset.keys():\n",
    "\t\t# Category Probability\n",
    "\t\t# Number of items in category/total number of items\n",
    "\t\tcat_prob=float(no_of_items[i])/sum(no_of_items.values())\n",
    "\n",
    "\t\t# p(test data | category)\n",
    "\t\ttest_prob1=test_prob(test,i)\n",
    "\n",
    "\t\tresults[i]=test_prob1*cat_prob\n",
    "\n",
    "\treturn results"
   ]
  },
  {
   "cell_type": "code",
   "execution_count": 19,
   "metadata": {},
   "outputs": [
    {
     "name": "stdout",
     "output_type": "stream",
     "text": [
      "Enter the sentence\n",
      "i am beautiful\n",
      "negative\n"
     ]
    }
   ],
   "source": [
    "print('Enter the sentence')\n",
    "text=input()\n",
    "result=naive_bayes(text)\n",
    "\n",
    "if result['1'] > result['-1']:\n",
    "\tprint('positive')\n",
    "else:\n",
    "\tprint('negative')"
   ]
  }
 ],
 "metadata": {
  "kernelspec": {
   "display_name": "Python 3",
   "language": "python",
   "name": "python3"
  },
  "language_info": {
   "codemirror_mode": {
    "name": "ipython",
    "version": 3
   },
   "file_extension": ".py",
   "mimetype": "text/x-python",
   "name": "python",
   "nbconvert_exporter": "python",
   "pygments_lexer": "ipython3",
   "version": "3.7.3"
  }
 },
 "nbformat": 4,
 "nbformat_minor": 2
}
