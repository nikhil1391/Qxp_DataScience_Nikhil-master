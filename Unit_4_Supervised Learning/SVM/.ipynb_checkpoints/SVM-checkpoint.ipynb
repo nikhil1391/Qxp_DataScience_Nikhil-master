{
 "cells": [
  {
   "cell_type": "code",
   "execution_count": 25,
   "metadata": {},
   "outputs": [],
   "source": [
    "def make_Dictionary(root_dir):\n",
    "    all_words = []\n",
    "    emails = [os.path.join(root_dir,f) for f in os.listdir(root_dir)]\n",
    "    for mail in emails:\n",
    "        with open(mail) as m:\n",
    "            for line in m:\n",
    "                words = line.split()\n",
    "                all_words += words\n",
    "    dictionary = Counter(all_words)\n",
    "   # if you have python version 3.x use commented version.\n",
    "    list_to_remove = list(dictionary)\n",
    "   #list_to_remove = dictionary.keys()\n",
    "\n",
    "    for item in list_to_remove:\n",
    "       # remove if numerical. \n",
    "        if item.isalpha() == False:\n",
    "            del dictionary[item]\n",
    "        elif len(item) == 1:\n",
    "            del dictionary[item]\n",
    "        # consider only most 3000 common words in dictionary.\n",
    "    dictionary = dictionary.most_common(3000)\n",
    "    return dictionary"
   ]
  },
  {
   "cell_type": "code",
   "execution_count": 29,
   "metadata": {},
   "outputs": [],
   "source": [
    "def extract_features(mail_dir):\n",
    "    files = [os.path.join(mail_dir,fi) for fi in os.listdir(mail_dir)]\n",
    "    features_matrix = np.zeros((len(files),3000))\n",
    "    train_labels = np.zeros(len(files))\n",
    "    count = 0;\n",
    "    docID = 0;\n",
    "    for fil in files:\n",
    "        with open(fil) as fi:\n",
    "            for i,line in enumerate(fi):\n",
    "                if i == 2:\n",
    "                    words = line.split()\n",
    "                for word in words:\n",
    "                    wordID = 0\n",
    "                for i,d in enumerate(dictionary):\n",
    "                    if d[0] == word:\n",
    "                        wordID = i\n",
    "                        features_matrix[docID,wordID] = words.count(word)\n",
    "                        train_labels[docID] = 0;\n",
    "                        filepathTokens = fil.split('/')\n",
    "                        lastToken = filepathTokens[len(filepathTokens) - 1]\n",
    "                    if lastToken.startswith(\"spmsg\"):\n",
    "                        train_labels[docID] = 1;\n",
    "                        count = count + 1\n",
    "                        docID = docID + 1\n",
    "        return features_matrix, train_labels"
   ]
  }
 ],
 "metadata": {
  "kernelspec": {
   "display_name": "Python 3",
   "language": "python",
   "name": "python3"
  },
  "language_info": {
   "codemirror_mode": {
    "name": "ipython",
    "version": 3
   },
   "file_extension": ".py",
   "mimetype": "text/x-python",
   "name": "python",
   "nbconvert_exporter": "python",
   "pygments_lexer": "ipython3",
   "version": "3.7.3"
  }
 },
 "nbformat": 4,
 "nbformat_minor": 2
}
