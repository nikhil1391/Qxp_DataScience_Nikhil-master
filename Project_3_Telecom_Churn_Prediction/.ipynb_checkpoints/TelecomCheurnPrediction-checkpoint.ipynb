{
  "cells": [
    {
      "metadata": {
        "trusted": true
      },
      "cell_type": "code",
      "source": "",
      "execution_count": null,
      "outputs": []
    },
    {
      "metadata": {
        "trusted": true
      },
      "cell_type": "code",
      "source": "#Libraries for Cleaing and Classification\n# This Python 3 environment comes with many helpful analytics libraries installed\n# It is defined by the kaggle/python docker image: https://github.com/kaggle/docker-python\n# For example, here's several helpful packages to load in \n\nimport numpy as np # linear algebra\nimport pandas as pd # data processing, CSV file I/O (e.g. pd.read_csv)\n# Input data files are available in the \"../input/\" directory.\n# For example, running this (by clicking run or pressing Shift+Enter) will list the files in the input directory\n\nfrom sklearn import preprocessing\nfrom sklearn.preprocessing import LabelEncoder\n\nfrom sklearn.model_selection import train_test_split\n\nimport matplotlib\nimport matplotlib.pyplot as plt\nfrom IPython.display import display, HTML\nimport seaborn as sns\n\n# Any results you write to the current directory are saved as output.",
      "execution_count": 2,
      "outputs": []
    },
    {
      "metadata": {
        "trusted": true
      },
      "cell_type": "code",
      "source": "#Load all Classification Packages and Accuracy Packages\n#!pip install xgboost",
      "execution_count": 6,
      "outputs": [
        {
          "output_type": "stream",
          "text": "Collecting xgboost\n\u001b[?25l  Downloading https://files.pythonhosted.org/packages/c1/24/5fe7237b2eca13ee0cfb100bec8c23f4e69ce9df852a64b0493d49dae4e0/xgboost-0.90-py2.py3-none-manylinux1_x86_64.whl (142.8MB)\n\u001b[K     |████████████████████████████████| 142.8MB 896bytes/s  0:00:01   |▌                               | 2.1MB 1.5MB/s eta 0:01:37     |▌                               | 2.3MB 1.5MB/s eta 0:01:37     |▊                               | 3.4MB 590kB/s eta 0:03:56     |▉                               | 3.7MB 425kB/s eta 0:05:28     |▉                               | 3.7MB 425kB/s eta 0:05:28     |▉                               | 3.8MB 425kB/s eta 0:05:27     |█                               | 4.3MB 425kB/s eta 0:05:26     |██▏                             | 9.8MB 4.4MB/s eta 0:00:31     |█████▎                          | 23.5MB 1.7MB/s eta 0:01:10     |███████▌                        | 33.4MB 199kB/s eta 0:09:09     |█████████▏                      | 41.1MB 779kB/s eta 0:02:11     |████████████▍                   | 55.3MB 513kB/s eta 0:02:51     |████████████▋                   | 56.5MB 1.2MB/s eta 0:01:10███▎                  | 59.4MB 2.2MB/s eta 0:00:39███▋                  | 60.6MB 2.2MB/s eta 0:00:38████                  | 62.5MB 1.8MB/s eta 0:00:44ta 0:09:00            | 68.4MB 139kB/s eta 0:08:5439kB/s eta 0:08:51            | 70.2MB 7.8MB/s eta 0:00:10            | 70.7MB 7.8MB/s eta 0:00:10            | 71.0MB 7.8MB/s eta 0:00:10            | 71.5MB 7.8MB/s eta 0:00:10�███████████▌               | 73.4MB 209kB/s eta 0:05:31�███████████▌               | 73.8MB 149kB/s eta 0:07:44�███████████▊               | 74.5MB 1.6MB/s eta 0:00:42��███████████████▏              | 76.4MB 161kB/s eta 0:06:52/s eta 0:06:45/s eta 0:06:42              | 78.5MB 161kB/s eta 0:06:40/s eta 0:00:52/s eta 0:00:52/s eta 0:00:56��██▎             | 81.6MB 2.4MB/s eta 0:00:26��██▌             | 82.7MB 2.4MB/s eta 0:00:25��██▉             | 83.9MB 130kB/s eta 0:07:33     |██████████████████▉             | 84.2MB 130kB/s eta 0:07:31��███             | 84.5MB 130kB/s eta 0:07:28��███             | 85.2MB 1.2MB/s eta 0:00:47��███████████████▏            | 85.5MB 1.2MB/s eta 0:00:47��███████████████▎            | 86.1MB 3.7MB/s eta 0:00:16�██▍            | 86.5MB 3.7MB/s eta 0:00:16     |███████████████████▌            | 87.3MB 3.7MB/s eta 0:00:15��███████████████▋            | 87.6MB 553kB/s eta 0:01:40�███████████████            | 88.8MB 620kB/s eta 0:01:27████           | 93.8MB 11.1MB/s eta 0:00:05�█████████▎          | 94.8MB 11.1MB/s eta 0:00:05��███▌          | 96.0MB 152kB/s eta 0:05:07��███▉          | 97.4MB 152kB/s eta 0:04:58��███▉          | 97.7MB 1.3MB/s eta 0:00:36�█          | 98.0MB 1.3MB/s eta 0:00:35████████████████▎         | 99.5MB 1.9MB/s eta 0:00:23��█████████████████████▌         | 100.3MB 3.2MB/s eta 0:00:14��█████████████████████▋         | 101.2MB 3.2MB/s eta 0:00:14��██████████████████████         | 102.2MB 199kB/s eta 0:03:247MB 199kB/s eta 0:03:174MB 101kB/s eta 0:06:203MB 101kB/s eta 0:06:10     |███████████████████████▉        | 106.5MB 165kB/s eta 0:03:408MB 165kB/s eta 0:03:38██████▏       | 107.9MB 165kB/s eta 0:03:31██████▍       | 108.7MB 191kB/s eta 0:02:59██████▌       | 109.3MB 191kB/s eta 0:02:56  |████████████████████████▌       | 109.5MB 191kB/s eta 0:02:55██████▊       | 110.3MB 242kB/s eta 0:02:15  |█████████████████████████       | 111.5MB 769kB/s eta 0:00:41��█████████████████▎      | 112.9MB 769kB/s eta 0:00:39███████▌      | 113.9MB 769kB/s eta 0:00:38    |█████████████████████████▋      | 114.2MB 5.0MB/s eta 0:00:06��█████████████████▊      | 114.7MB 5.0MB/s eta 0:00:06��██████████████████      | 116.2MB 3.0MB/s eta 0:00:09     |███████████████████████████▏    | 121.0MB 119kB/s eta 0:03:03   | 121.8MB 119kB/s eta 0:02:57   | 122.8MB 119kB/s eta 0:02:48��█████████▏   | 125.7MB 1.8MB/s eta 0:00:10�█████████▎   | 126.0MB 1.4MB/s eta 0:00:12��█████████▎   | 126.3MB 1.4MB/s eta 0:00:12��█████████▌   | 127.4MB 164kB/s eta 0:01:34��█████   | 129.1MB 24kB/s eta 0:09:18     |█████████████████████████████▊  | 132.8MB 79kB/s eta 0:02:07     |███████████████████████████████▍| 139.9MB 106kB/s eta 0:00:28\n\u001b[?25hRequirement already satisfied: numpy in /home/nbuser/anaconda3_501/lib/python3.6/site-packages (from xgboost) (1.16.2)\nRequirement already satisfied: scipy in /home/nbuser/anaconda3_501/lib/python3.6/site-packages (from xgboost) (1.1.0)\nInstalling collected packages: xgboost\nSuccessfully installed xgboost-0.90\n\u001b[33mWARNING: You are using pip version 19.2.2, however version 19.2.3 is available.\nYou should consider upgrading via the 'pip install --upgrade pip' command.\u001b[0m\n",
          "name": "stdout"
        }
      ]
    },
    {
      "metadata": {
        "trusted": true
      },
      "cell_type": "code",
      "source": "import xgboost as xgb\nfrom sklearn.linear_model import LogisticRegression\nfrom sklearn.neighbors import KNeighborsClassifier,RadiusNeighborsClassifier\nfrom sklearn.naive_bayes import MultinomialNB\nfrom sklearn.svm import LinearSVC,SVC\nfrom sklearn.ensemble import RandomForestClassifier, AdaBoostClassifier, GradientBoostingClassifier,ExtraTreesClassifier\nfrom sklearn.tree import DecisionTreeClassifier\n\nfrom sklearn.metrics import accuracy_score,roc_auc_score",
      "execution_count": 7,
      "outputs": []
    },
    {
      "metadata": {
        "trusted": true
      },
      "cell_type": "code",
      "source": "df = pd.read_csv('CustomerDetails.csv')\ndf.head(5)",
      "execution_count": 8,
      "outputs": [
        {
          "output_type": "execute_result",
          "execution_count": 8,
          "data": {
            "text/html": "<div>\n<style scoped>\n    .dataframe tbody tr th:only-of-type {\n        vertical-align: middle;\n    }\n\n    .dataframe tbody tr th {\n        vertical-align: top;\n    }\n\n    .dataframe thead th {\n        text-align: right;\n    }\n</style>\n<table border=\"1\" class=\"dataframe\">\n  <thead>\n    <tr style=\"text-align: right;\">\n      <th></th>\n      <th>state</th>\n      <th>account length</th>\n      <th>area code</th>\n      <th>phone number</th>\n      <th>international plan</th>\n      <th>voice mail plan</th>\n      <th>number vmail messages</th>\n      <th>total day minutes</th>\n      <th>total day calls</th>\n      <th>total day charge</th>\n      <th>...</th>\n      <th>total eve calls</th>\n      <th>total eve charge</th>\n      <th>total night minutes</th>\n      <th>total night calls</th>\n      <th>total night charge</th>\n      <th>total intl minutes</th>\n      <th>total intl calls</th>\n      <th>total intl charge</th>\n      <th>customer service calls</th>\n      <th>churn</th>\n    </tr>\n  </thead>\n  <tbody>\n    <tr>\n      <th>0</th>\n      <td>KS</td>\n      <td>128</td>\n      <td>415</td>\n      <td>382-4657</td>\n      <td>no</td>\n      <td>yes</td>\n      <td>25</td>\n      <td>265.1</td>\n      <td>110</td>\n      <td>45.07</td>\n      <td>...</td>\n      <td>99</td>\n      <td>16.78</td>\n      <td>244.7</td>\n      <td>91</td>\n      <td>11.01</td>\n      <td>10.0</td>\n      <td>3</td>\n      <td>2.70</td>\n      <td>1</td>\n      <td>False</td>\n    </tr>\n    <tr>\n      <th>1</th>\n      <td>OH</td>\n      <td>107</td>\n      <td>415</td>\n      <td>371-7191</td>\n      <td>no</td>\n      <td>yes</td>\n      <td>26</td>\n      <td>161.6</td>\n      <td>123</td>\n      <td>27.47</td>\n      <td>...</td>\n      <td>103</td>\n      <td>16.62</td>\n      <td>254.4</td>\n      <td>103</td>\n      <td>11.45</td>\n      <td>13.7</td>\n      <td>3</td>\n      <td>3.70</td>\n      <td>1</td>\n      <td>False</td>\n    </tr>\n    <tr>\n      <th>2</th>\n      <td>NJ</td>\n      <td>137</td>\n      <td>415</td>\n      <td>358-1921</td>\n      <td>no</td>\n      <td>no</td>\n      <td>0</td>\n      <td>243.4</td>\n      <td>114</td>\n      <td>41.38</td>\n      <td>...</td>\n      <td>110</td>\n      <td>10.30</td>\n      <td>162.6</td>\n      <td>104</td>\n      <td>7.32</td>\n      <td>12.2</td>\n      <td>5</td>\n      <td>3.29</td>\n      <td>0</td>\n      <td>False</td>\n    </tr>\n    <tr>\n      <th>3</th>\n      <td>OH</td>\n      <td>84</td>\n      <td>408</td>\n      <td>375-9999</td>\n      <td>yes</td>\n      <td>no</td>\n      <td>0</td>\n      <td>299.4</td>\n      <td>71</td>\n      <td>50.90</td>\n      <td>...</td>\n      <td>88</td>\n      <td>5.26</td>\n      <td>196.9</td>\n      <td>89</td>\n      <td>8.86</td>\n      <td>6.6</td>\n      <td>7</td>\n      <td>1.78</td>\n      <td>2</td>\n      <td>False</td>\n    </tr>\n    <tr>\n      <th>4</th>\n      <td>OK</td>\n      <td>75</td>\n      <td>415</td>\n      <td>330-6626</td>\n      <td>yes</td>\n      <td>no</td>\n      <td>0</td>\n      <td>166.7</td>\n      <td>113</td>\n      <td>28.34</td>\n      <td>...</td>\n      <td>122</td>\n      <td>12.61</td>\n      <td>186.9</td>\n      <td>121</td>\n      <td>8.41</td>\n      <td>10.1</td>\n      <td>3</td>\n      <td>2.73</td>\n      <td>3</td>\n      <td>False</td>\n    </tr>\n  </tbody>\n</table>\n<p>5 rows × 21 columns</p>\n</div>",
            "text/plain": "  state  account length  area code phone number international plan  \\\n0    KS             128        415     382-4657                 no   \n1    OH             107        415     371-7191                 no   \n2    NJ             137        415     358-1921                 no   \n3    OH              84        408     375-9999                yes   \n4    OK              75        415     330-6626                yes   \n\n  voice mail plan  number vmail messages  total day minutes  total day calls  \\\n0             yes                     25              265.1              110   \n1             yes                     26              161.6              123   \n2              no                      0              243.4              114   \n3              no                      0              299.4               71   \n4              no                      0              166.7              113   \n\n   total day charge  ...    total eve calls  total eve charge  \\\n0             45.07  ...                 99             16.78   \n1             27.47  ...                103             16.62   \n2             41.38  ...                110             10.30   \n3             50.90  ...                 88              5.26   \n4             28.34  ...                122             12.61   \n\n   total night minutes  total night calls  total night charge  \\\n0                244.7                 91               11.01   \n1                254.4                103               11.45   \n2                162.6                104                7.32   \n3                196.9                 89                8.86   \n4                186.9                121                8.41   \n\n   total intl minutes  total intl calls  total intl charge  \\\n0                10.0                 3               2.70   \n1                13.7                 3               3.70   \n2                12.2                 5               3.29   \n3                 6.6                 7               1.78   \n4                10.1                 3               2.73   \n\n   customer service calls  churn  \n0                       1  False  \n1                       1  False  \n2                       0  False  \n3                       2  False  \n4                       3  False  \n\n[5 rows x 21 columns]"
          },
          "metadata": {}
        }
      ]
    },
    {
      "metadata": {
        "trusted": true
      },
      "cell_type": "code",
      "source": "# Remove Column, Shape, Null Value and Data Type",
      "execution_count": 10,
      "outputs": []
    },
    {
      "metadata": {
        "trusted": true
      },
      "cell_type": "code",
      "source": "df = df.drop(['phone number'],axis=1)\ndf.shape",
      "execution_count": 11,
      "outputs": [
        {
          "output_type": "execute_result",
          "execution_count": 11,
          "data": {
            "text/plain": "(3333, 20)"
          },
          "metadata": {}
        }
      ]
    },
    {
      "metadata": {
        "trusted": true
      },
      "cell_type": "code",
      "source": "df.isnull().sum()",
      "execution_count": 12,
      "outputs": [
        {
          "output_type": "execute_result",
          "execution_count": 12,
          "data": {
            "text/plain": "state                     0\naccount length            0\narea code                 0\ninternational plan        0\nvoice mail plan           0\nnumber vmail messages     0\ntotal day minutes         0\ntotal day calls           0\ntotal day charge          0\ntotal eve minutes         0\ntotal eve calls           0\ntotal eve charge          0\ntotal night minutes       0\ntotal night calls         0\ntotal night charge        0\ntotal intl minutes        0\ntotal intl calls          0\ntotal intl charge         0\ncustomer service calls    0\nchurn                     0\ndtype: int64"
          },
          "metadata": {}
        }
      ]
    },
    {
      "metadata": {
        "trusted": true
      },
      "cell_type": "code",
      "source": "print(\"------  Data Types  ----- \\n\",df.dtypes)\nprint(\"------  Data type Count  ----- \\n\",df.dtypes.value_counts())",
      "execution_count": 14,
      "outputs": [
        {
          "output_type": "stream",
          "text": "------  Data Types  ----- \n state                      object\naccount length              int64\narea code                   int64\ninternational plan         object\nvoice mail plan            object\nnumber vmail messages       int64\ntotal day minutes         float64\ntotal day calls             int64\ntotal day charge          float64\ntotal eve minutes         float64\ntotal eve calls             int64\ntotal eve charge          float64\ntotal night minutes       float64\ntotal night calls           int64\ntotal night charge        float64\ntotal intl minutes        float64\ntotal intl calls            int64\ntotal intl charge         float64\ncustomer service calls      int64\nchurn                        bool\ndtype: object\n------  Data type Count  ----- \n float64    8\nint64      8\nobject     3\nbool       1\ndtype: int64\n",
          "name": "stdout"
        }
      ]
    },
    {
      "metadata": {
        "trusted": true
      },
      "cell_type": "code",
      "source": "#Label Encoding for Catergorical Variable",
      "execution_count": 15,
      "outputs": []
    },
    {
      "metadata": {
        "trusted": true
      },
      "cell_type": "code",
      "source": "cate = [key for key in dict(df.dtypes) if dict(df.dtypes)[key] in ['bool', 'object']]",
      "execution_count": 16,
      "outputs": []
    },
    {
      "metadata": {
        "trusted": true
      },
      "cell_type": "code",
      "source": "cate",
      "execution_count": 18,
      "outputs": [
        {
          "output_type": "execute_result",
          "execution_count": 18,
          "data": {
            "text/plain": "['state', 'international plan', 'voice mail plan', 'churn']"
          },
          "metadata": {}
        }
      ]
    },
    {
      "metadata": {
        "trusted": true
      },
      "cell_type": "code",
      "source": "le = preprocessing.LabelEncoder()\nfor i in cate:\n    le.fit(df[i])\n    df[i] = le.transform(df[i])\n    \n",
      "execution_count": 33,
      "outputs": []
    },
    {
      "metadata": {
        "trusted": true
      },
      "cell_type": "code",
      "source": "#Correlation plot\ncorrmat = df.corr(method='pearson')\nf, ax = plt.subplots(figsize=(18, 18))\n\n# Draw the heatmap using seaborn\n#plt.figure(figsize=(20,5))\nsns.heatmap(corrmat, vmax=1., square=True,annot=True)\nplt.title(\"Important variables correlation map\", fontsize=15)\nplt.show()",
      "execution_count": null,
      "outputs": []
    },
    {
      "metadata": {
        "trusted": true
      },
      "cell_type": "code",
      "source": "y = df['churn']\ndf = df.drop(['churn'],axis=1)",
      "execution_count": null,
      "outputs": []
    },
    {
      "metadata": {
        "trusted": true
      },
      "cell_type": "code",
      "source": "#Feature Important by XG",
      "execution_count": null,
      "outputs": []
    }
  ],
  "metadata": {
    "kernelspec": {
      "name": "python36",
      "display_name": "Python 3.6",
      "language": "python"
    }
  },
  "nbformat": 4,
  "nbformat_minor": 2
}