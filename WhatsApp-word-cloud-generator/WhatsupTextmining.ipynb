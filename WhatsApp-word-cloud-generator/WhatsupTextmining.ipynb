{
  "cells": [
    {
      "metadata": {
        "trusted": true
      },
      "cell_type": "code",
      "source": "!pip install WordCloud",
      "execution_count": 3,
      "outputs": [
        {
          "output_type": "stream",
          "text": "Collecting WordCloud\n\u001b[?25l  Downloading https://files.pythonhosted.org/packages/ae/af/849edf14d573eba9c8082db898ff0d090428d9485371cc4fe21a66717ad2/wordcloud-1.5.0-cp36-cp36m-manylinux1_x86_64.whl (361kB)\n\u001b[K     |████████████████████████████████| 368kB 1.8MB/s eta 0:00:01\n\u001b[?25hRequirement already satisfied: numpy>=1.6.1 in /home/nbuser/anaconda3_501/lib/python3.6/site-packages (from WordCloud) (1.16.2)\nRequirement already satisfied: pillow in /home/nbuser/anaconda3_501/lib/python3.6/site-packages (from WordCloud) (5.3.0)\nInstalling collected packages: WordCloud\nSuccessfully installed WordCloud-1.5.0\n\u001b[33mWARNING: You are using pip version 19.2.2, however version 19.2.3 is available.\nYou should consider upgrading via the 'pip install --upgrade pip' command.\u001b[0m\n",
          "name": "stdout"
        }
      ]
    },
    {
      "metadata": {
        "trusted": true
      },
      "cell_type": "code",
      "source": "import pandas as pd \nimport time\nimport matplotlib.pyplot as plt\nimport sys\nfrom wordcloud import WordCloud, STOPWORDS\nfrom PIL import Image\n",
      "execution_count": 4,
      "outputs": []
    },
    {
      "metadata": {
        "trusted": true
      },
      "cell_type": "code",
      "source": "def generate_word_cloud(file_name, output_file_name):   \n    start_time = time.time()\n    \n    print(\"Reading WhatsApp text file at %s seconds.\" %(time.time() - start_time))\n    try:\n        data = pd.read_csv(file_name, sep='\\n', header=None)\n    except:\n        print(\"\\n\\nThe file you have enter does not exist, make sure you've typed the name of the file correctly.\")\n        sys.exit(1)\n    timestamp = data[0].map(lambda x: x[:18])\n    data[0] = data[0].map(lambda x: x[20:])\n    \n    print(\"Generating pandas dataframe from text file at %s seconds.\" %(time.time() - start_time))\n    df = pd.DataFrame(data[0].str.split(':',1).tolist(),\n                                       columns = ['Name','Message'])\n    df['Timestamp'] = timestamp\n    df['Date'] = timestamp\n    \n    text = df['Message'].to_string()\n    \n  \n    stops={'ha','nahi','folder','git','pm','check','none','ok','class','time','today','github','https',}\n    stopwords = set(STOPWORDS)\n    for i in stops:\n        stopwords.add(i)\n    #stopwords.add('dtype')\n    #stopwords.add('omitted')\n    #stopwords.add('Media')\n    #stopwords.add('Yeah')\n    #stopwords.add('know')\n    #stopwords.add('okay')\n    #stopwords.add('maybe')\n    #stopwords.add('one')\n    print(\"Initalising word cloud object at %s seconds.\" %(time.time() - start_time))\n    wc = WordCloud(\n                              background_color='white',\n                              stopwords=stopwords,\n                              width=1920,\n                              height=1080,\n                              max_words=500,\n                             )\n    print(\"Generating word cloud at %s seconds.\" %(time.time() - start_time))\n    wc.generate(text)\n    \n    #wc.generate(text_person_1)\n    #wc.generate(text_person_2)\n    \n   \n    print(\"Saving word cloud image \\\"%s\\\" at %s seconds.\" %(output_file_name ,time.time() - start_time))\n    wc.to_file(output_file_name)\n    \n    print(\"Displaying word cloud image at %s seconds.\" %(time.time() - start_time))\n    fig = plt.figure(1)\n    plt.imshow(wc, interpolation='bilinear')\n    plt.axis(\"off\")\n    plt.figure()\n\nif __name__ == \"__main__\":\n    text_file_name = \"input.txt\" # Enter the WhatsApp exported file name here!\n    output_file_name = \"my_world_cloud.png\" # Enter the name of the output image here!\n    generate_word_cloud(text_file_name, output_file_name)\n",
      "execution_count": 7,
      "outputs": [
        {
          "output_type": "stream",
          "text": "Reading WhatsApp text file at 4.76837158203125e-07 seconds.\nGenerating pandas dataframe from text file at 0.4538881778717041 seconds.\nInitalising word cloud object at 0.5489356517791748 seconds.\nGenerating word cloud at 0.5491693019866943 seconds.\nSaving word cloud image \"my_world_cloud.png\" at 54.70081806182861 seconds.\nDisplaying word cloud image at 60.83612847328186 seconds.\n",
          "name": "stdout"
        }
      ]
    },
    {
      "metadata": {
        "trusted": true
      },
      "cell_type": "code",
      "source": "",
      "execution_count": null,
      "outputs": []
    },
    {
      "metadata": {
        "trusted": true
      },
      "cell_type": "code",
      "source": "",
      "execution_count": null,
      "outputs": []
    }
  ],
  "metadata": {
    "kernelspec": {
      "name": "python36",
      "display_name": "Python 3.6",
      "language": "python"
    },
    "language_info": {
      "mimetype": "text/x-python",
      "nbconvert_exporter": "python",
      "name": "python",
      "pygments_lexer": "ipython3",
      "version": "3.6.6",
      "file_extension": ".py",
      "codemirror_mode": {
        "version": 3,
        "name": "ipython"
      }
    }
  },
  "nbformat": 4,
  "nbformat_minor": 2
}